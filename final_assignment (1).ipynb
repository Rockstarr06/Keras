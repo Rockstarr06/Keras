{
 "cells": [
  {
   "cell_type": "code",
   "execution_count": 118,
   "metadata": {},
   "outputs": [],
   "source": [
    "# Importing all required libs\n",
    "import keras\n",
    "from keras.models import Sequential\n",
    "from keras.layers import Dense\n",
    "import pandas as pd\n",
    "import numpy as np\n",
    "from sklearn.model_selection import train_test_split\n",
    "from sklearn import preprocessing\n",
    "\n",
    "\n"
   ]
  },
  {
   "cell_type": "code",
   "execution_count": 123,
   "metadata": {},
   "outputs": [],
   "source": [
    "data = pd.read_csv(\"https://cocl.us/concrete_data\")\n",
    "\n",
    "columns = data.columns\n",
    "\n",
    "# Separating data in target and predictors\n",
    "target = data[\"Strength\"]\n",
    "predictors = data[columns[columns != \"Strength\"]]\n",
    "# normalizing data\n",
    "normalized_predictors = preprocessing.normalize(predictors)\n",
    "# Getting number of columns\n",
    "n_col = predictors.shape[1]\n",
    "\n",
    "\n"
   ]
  },
  {
   "cell_type": "code",
   "execution_count": 122,
   "metadata": {},
   "outputs": [],
   "source": [
    "# Fucntion that creates our model. 1 layer with 10 nodes. \n",
    "# Loss = mean square error \n",
    "def regression_model():\n",
    "    model = Sequential()\n",
    "    model.add(Dense(10, activation=\"relu\", input_shape=(n_col,)))\n",
    "    model.add(Dense(1))\n",
    "    \n",
    "    model.compile(optimizer=\"adam\", loss=\"mse\")\n",
    "    return model"
   ]
  },
  {
   "cell_type": "code",
   "execution_count": 125,
   "metadata": {},
   "outputs": [
    {
     "name": "stdout",
     "output_type": "stream",
     "text": [
      "Mean:  416.2489197224244 \n",
      "Standrad deviation:  479.8913963745206\n"
     ]
    }
   ],
   "source": [
    "# Part A\n",
    "\n",
    "loss_list = []\n",
    "# Run calculaions 50 times with different distribution of train and test data.\n",
    "# Appending all results on loss_list\n",
    "for i in range(50):\n",
    "    model = regression_model()\n",
    "    X_train, X_test, y_train, y_test = train_test_split(\n",
    "        predictors, target, test_size=0.3, random_state=i)\n",
    "\n",
    "    model.fit(X_train, y_train, epochs=50, verbose=0)\n",
    "    \n",
    "    result = model.evaluate(X_test, y_test, verbose=0)\n",
    "    loss_list.append(result)\n",
    "\n",
    "# printing mean and std\n",
    "print (\"Mean: \", np.mean(loss_list), \"\\nStandrad deviation: \", np.std(loss_list))\n",
    "    \n",
    "    "
   ]
  },
  {
   "cell_type": "code",
   "execution_count": 127,
   "metadata": {},
   "outputs": [
    {
     "name": "stdout",
     "output_type": "stream",
     "text": [
      "With normalized data\n",
      "Mean:  418.26087261311056 \n",
      "Standrad deviation:  146.18526614283834\n"
     ]
    }
   ],
   "source": [
    "# Part B\n",
    "\n",
    "loss_list = []\n",
    "# Run calculaions 50 times with different distribution of train and test data.\n",
    "# Appending all results on loss_list\n",
    "for i in range(50):\n",
    "    model = regression_model()\n",
    "    X_train, X_test, y_train, y_test = train_test_split(\n",
    "        normalized_predictors, target, test_size=0.3, random_state=i)\n",
    "\n",
    "    model.fit(X_train, y_train, epochs=50, verbose=0)\n",
    "    \n",
    "    result = model.evaluate(X_test, y_test, verbose=0)\n",
    "    loss_list.append(result)\n",
    "\n",
    "# printing mean and std\n",
    "print (\"With normalized data\")\n",
    "print (\"Mean: \", np.mean(loss_list), \"\\nStandrad deviation: \", np.std(loss_list))\n",
    "    \n",
    "    "
   ]
  },
  {
   "cell_type": "code",
   "execution_count": 128,
   "metadata": {},
   "outputs": [
    {
     "name": "stdout",
     "output_type": "stream",
     "text": [
      "With normalized data and 100 epochs\n",
      "Mean:  257.85686951473696 \n",
      "Standrad deviation:  32.86475845381671\n"
     ]
    }
   ],
   "source": [
    "# Part C\n",
    "\n",
    "loss_list = []\n",
    "# Run calculaions 50 times with different distribution of train and test data.\n",
    "# Appending all results on loss_list\n",
    "for i in range(50):\n",
    "    model = regression_model()\n",
    "    X_train, X_test, y_train, y_test = train_test_split(\n",
    "        normalized_predictors, target, test_size=0.3, random_state=i)\n",
    "\n",
    "    model.fit(X_train, y_train, epochs=100, verbose=0)\n",
    "    \n",
    "    result = model.evaluate(X_test, y_test, verbose=0)\n",
    "    loss_list.append(result)\n",
    "\n",
    "# printing mean and std\n",
    "print (\"With normalized data and 100 epochs\")\n",
    "print (\"Mean: \", np.mean(loss_list), \"\\nStandrad deviation: \", np.std(loss_list))\n",
    "    \n",
    "    "
   ]
  },
  {
   "cell_type": "code",
   "execution_count": 130,
   "metadata": {},
   "outputs": [
    {
     "name": "stdout",
     "output_type": "stream",
     "text": [
      "With normalized data and 100 epochs and 3 hidden layers\n",
      "Mean:  159.185034485604 \n",
      "Standrad deviation:  28.868367105366477\n"
     ]
    }
   ],
   "source": [
    "# Part D\n",
    "def regression_model():\n",
    "    model = Sequential()\n",
    "    model.add(Dense(10, activation=\"relu\", input_shape=(n_col,)))\n",
    "    model.add(Dense(10, activation=\"relu\"))\n",
    "    model.add(Dense(10, activation=\"relu\"))\n",
    "    model.add(Dense(1))\n",
    "    \n",
    "    model.compile(optimizer=\"adam\", loss=\"mse\")\n",
    "    return model\n",
    "\n",
    "\n",
    "loss_list = []\n",
    "# Run calculaions 50 times with different distribution of train and test data.\n",
    "# Appending all results on loss_list\n",
    "for i in range(50):\n",
    "    model = regression_model()\n",
    "    X_train, X_test, y_train, y_test = train_test_split(\n",
    "        normalized_predictors, target, test_size=0.3, random_state=i)\n",
    "\n",
    "    model.fit(X_train, y_train, epochs=100, verbose=0)\n",
    "    \n",
    "    result = model.evaluate(X_test, y_test, verbose=0)\n",
    "    loss_list.append(result)\n",
    "\n",
    "# printing mean and std\n",
    "print (\"With normalized data and 100 epochs and 3 hidden layers\")\n",
    "print (\"Mean: \", np.mean(loss_list), \"\\nStandrad deviation: \", np.std(loss_list))\n",
    "    \n",
    "    "
   ]
  }
 ],
 "metadata": {
  "kernelspec": {
   "display_name": "Python 3",
   "language": "python",
   "name": "python3"
  },
  "language_info": {
   "codemirror_mode": {
    "name": "ipython",
    "version": 3
   },
   "file_extension": ".py",
   "mimetype": "text/x-python",
   "name": "python",
   "nbconvert_exporter": "python",
   "pygments_lexer": "ipython3",
   "version": "3.7.6"
  }
 },
 "nbformat": 4,
 "nbformat_minor": 2
}
